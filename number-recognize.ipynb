{
  "nbformat": 4,
  "nbformat_minor": 0,
  "metadata": {
    "colab": {
      "provenance": []
    },
    "kernelspec": {
      "name": "python3",
      "display_name": "Python 3"
    },
    "language_info": {
      "name": "python"
    }
  },
  "cells": [
    {
      "cell_type": "code",
      "execution_count": 4,
      "metadata": {
        "id": "xBIj9KsTF8fK"
      },
      "outputs": [],
      "source": [
        "import torch"
      ]
    },
    {
      "cell_type": "code",
      "source": [
        "import torchvision"
      ],
      "metadata": {
        "id": "H-GCeS1hKkrC"
      },
      "execution_count": 9,
      "outputs": []
    },
    {
      "cell_type": "code",
      "source": [
        "from torch import nn"
      ],
      "metadata": {
        "id": "FWYvvPWEGfXW"
      },
      "execution_count": 8,
      "outputs": []
    },
    {
      "cell_type": "code",
      "source": [
        "from torchvision import transforms\n"
      ],
      "metadata": {
        "id": "XuIlaa9RKqQW"
      },
      "execution_count": 10,
      "outputs": []
    },
    {
      "cell_type": "code",
      "source": [
        "from torch.utils.data import DataLoader\n"
      ],
      "metadata": {
        "id": "gJ8Y7k_sJ_Z6"
      },
      "execution_count": 11,
      "outputs": []
    },
    {
      "cell_type": "code",
      "source": [
        "transform=transforms.Compose([\n",
        "    transforms.Grayscale(num_output_channels=1),\n",
        "    transforms.ToTensor(),\n",
        "    transforms.Normalize(mean=[0.5],std=[0.5])\n",
        "])"
      ],
      "metadata": {
        "id": "zR0nrlp5JyWq"
      },
      "execution_count": 13,
      "outputs": []
    },
    {
      "cell_type": "code",
      "source": [
        "train_dataset = torchvision.datasets.MNIST(root='./data', train=True, download=True, transform=transform)\n",
        "test_dataset = torchvision.datasets.MNIST(root='./data', train=False, download=True, transform=transform)"
      ],
      "metadata": {
        "colab": {
          "base_uri": "https://localhost:8080/"
        },
        "id": "kHr9CtgRLJl9",
        "outputId": "3298b99a-d954-4775-e6f1-196a9f3047cc"
      },
      "execution_count": 14,
      "outputs": [
        {
          "output_type": "stream",
          "name": "stdout",
          "text": [
            "Downloading http://yann.lecun.com/exdb/mnist/train-images-idx3-ubyte.gz\n",
            "Failed to download (trying next):\n",
            "HTTP Error 403: Forbidden\n",
            "\n",
            "Downloading https://ossci-datasets.s3.amazonaws.com/mnist/train-images-idx3-ubyte.gz\n",
            "Downloading https://ossci-datasets.s3.amazonaws.com/mnist/train-images-idx3-ubyte.gz to ./data/MNIST/raw/train-images-idx3-ubyte.gz\n"
          ]
        },
        {
          "output_type": "stream",
          "name": "stderr",
          "text": [
            "100%|██████████| 9912422/9912422 [00:00<00:00, 53364315.44it/s]\n"
          ]
        },
        {
          "output_type": "stream",
          "name": "stdout",
          "text": [
            "Extracting ./data/MNIST/raw/train-images-idx3-ubyte.gz to ./data/MNIST/raw\n",
            "\n",
            "Downloading http://yann.lecun.com/exdb/mnist/train-labels-idx1-ubyte.gz\n",
            "Failed to download (trying next):\n",
            "HTTP Error 403: Forbidden\n",
            "\n",
            "Downloading https://ossci-datasets.s3.amazonaws.com/mnist/train-labels-idx1-ubyte.gz\n",
            "Downloading https://ossci-datasets.s3.amazonaws.com/mnist/train-labels-idx1-ubyte.gz to ./data/MNIST/raw/train-labels-idx1-ubyte.gz\n"
          ]
        },
        {
          "output_type": "stream",
          "name": "stderr",
          "text": [
            "100%|██████████| 28881/28881 [00:00<00:00, 1781852.73it/s]"
          ]
        },
        {
          "output_type": "stream",
          "name": "stdout",
          "text": [
            "Extracting ./data/MNIST/raw/train-labels-idx1-ubyte.gz to ./data/MNIST/raw\n",
            "\n",
            "Downloading http://yann.lecun.com/exdb/mnist/t10k-images-idx3-ubyte.gz\n"
          ]
        },
        {
          "output_type": "stream",
          "name": "stderr",
          "text": [
            "\n"
          ]
        },
        {
          "output_type": "stream",
          "name": "stdout",
          "text": [
            "Failed to download (trying next):\n",
            "HTTP Error 403: Forbidden\n",
            "\n",
            "Downloading https://ossci-datasets.s3.amazonaws.com/mnist/t10k-images-idx3-ubyte.gz\n",
            "Downloading https://ossci-datasets.s3.amazonaws.com/mnist/t10k-images-idx3-ubyte.gz to ./data/MNIST/raw/t10k-images-idx3-ubyte.gz\n"
          ]
        },
        {
          "output_type": "stream",
          "name": "stderr",
          "text": [
            "100%|██████████| 1648877/1648877 [00:00<00:00, 12690686.98it/s]\n"
          ]
        },
        {
          "output_type": "stream",
          "name": "stdout",
          "text": [
            "Extracting ./data/MNIST/raw/t10k-images-idx3-ubyte.gz to ./data/MNIST/raw\n",
            "\n",
            "Downloading http://yann.lecun.com/exdb/mnist/t10k-labels-idx1-ubyte.gz\n",
            "Failed to download (trying next):\n",
            "HTTP Error 403: Forbidden\n",
            "\n",
            "Downloading https://ossci-datasets.s3.amazonaws.com/mnist/t10k-labels-idx1-ubyte.gz\n",
            "Downloading https://ossci-datasets.s3.amazonaws.com/mnist/t10k-labels-idx1-ubyte.gz to ./data/MNIST/raw/t10k-labels-idx1-ubyte.gz\n"
          ]
        },
        {
          "output_type": "stream",
          "name": "stderr",
          "text": [
            "100%|██████████| 4542/4542 [00:00<00:00, 3552877.43it/s]"
          ]
        },
        {
          "output_type": "stream",
          "name": "stdout",
          "text": [
            "Extracting ./data/MNIST/raw/t10k-labels-idx1-ubyte.gz to ./data/MNIST/raw\n",
            "\n"
          ]
        },
        {
          "output_type": "stream",
          "name": "stderr",
          "text": [
            "\n"
          ]
        }
      ]
    },
    {
      "cell_type": "code",
      "source": [
        "print(len(train_dataset))\n",
        "print(len(test_dataset))"
      ],
      "metadata": {
        "colab": {
          "base_uri": "https://localhost:8080/"
        },
        "id": "gUVoOpMeLbfz",
        "outputId": "c20fafd1-5273-415a-da30-51607d7193bd"
      },
      "execution_count": 16,
      "outputs": [
        {
          "output_type": "stream",
          "name": "stdout",
          "text": [
            "60000\n",
            "10000\n"
          ]
        }
      ]
    },
    {
      "cell_type": "code",
      "source": [
        "class Networl(nn.Module):\n",
        "    def __init__(self):\n",
        "        super(Networl,self).__init__()\n",
        "        self.layer1=nn.Linear(784,256)\n",
        "        self.layer2=nn.Linear(256,10)\n",
        "    def forward(self,x):\n",
        "        #x=x.view(-1,28,28)\n",
        "        x=x.view(-1,784)\n",
        "        x=self.layer1(x)\n",
        "        x=torch.relu(x)\n",
        "        x=self.layer2(x)\n",
        "        return x"
      ],
      "metadata": {
        "id": "Eqld1ho4GwZN"
      },
      "execution_count": 42,
      "outputs": []
    },
    {
      "cell_type": "code",
      "source": [
        "train_loader=DataLoader(train_dataset,batch_size=64,shuffle=True)\n",
        "print(len(train_loader))\n",
        "test_loader = DataLoader(dataset=test_dataset, batch_size=1000, shuffle=False)"
      ],
      "metadata": {
        "colab": {
          "base_uri": "https://localhost:8080/"
        },
        "id": "bZeQzIsRLlM6",
        "outputId": "58d2bc25-a498-4548-9579-72273de4c217"
      },
      "execution_count": 45,
      "outputs": [
        {
          "output_type": "stream",
          "name": "stdout",
          "text": [
            "938\n"
          ]
        }
      ]
    },
    {
      "cell_type": "code",
      "source": [
        "for batch_idx,(data,label) in enumerate(train_loader):\n",
        "    if batch_idx == 3:\n",
        "        break\n",
        "    print(batch_idx)\n",
        "    print(data.shape)\n",
        "    print(label.shape)\n",
        "    print(label)"
      ],
      "metadata": {
        "colab": {
          "base_uri": "https://localhost:8080/"
        },
        "id": "YlvS5TafMdiN",
        "outputId": "a464e9fe-fc75-4913-b8f1-303f0128bc02"
      },
      "execution_count": 44,
      "outputs": [
        {
          "output_type": "stream",
          "name": "stdout",
          "text": [
            "0\n",
            "torch.Size([64, 1, 28, 28])\n",
            "torch.Size([64])\n",
            "tensor([7, 7, 1, 8, 1, 8, 3, 0, 3, 2, 3, 0, 9, 6, 7, 8, 7, 0, 4, 3, 2, 6, 9, 3,\n",
            "        5, 9, 3, 0, 7, 6, 4, 3, 8, 9, 7, 4, 0, 9, 9, 7, 9, 8, 9, 9, 2, 5, 0, 5,\n",
            "        2, 4, 2, 6, 9, 4, 6, 2, 8, 6, 6, 3, 6, 1, 5, 8])\n",
            "1\n",
            "torch.Size([64, 1, 28, 28])\n",
            "torch.Size([64])\n",
            "tensor([4, 3, 6, 8, 7, 2, 4, 9, 9, 3, 6, 0, 8, 1, 6, 3, 9, 0, 5, 7, 6, 8, 1, 6,\n",
            "        2, 0, 4, 3, 2, 0, 4, 0, 2, 2, 0, 7, 7, 4, 3, 2, 3, 6, 7, 4, 6, 9, 3, 2,\n",
            "        2, 2, 2, 5, 1, 2, 8, 2, 6, 9, 9, 1, 7, 6, 3, 2])\n",
            "2\n",
            "torch.Size([64, 1, 28, 28])\n",
            "torch.Size([64])\n",
            "tensor([8, 4, 6, 1, 8, 5, 5, 0, 9, 8, 0, 8, 2, 6, 6, 0, 1, 1, 1, 1, 5, 6, 2, 1,\n",
            "        4, 7, 4, 9, 7, 2, 6, 8, 7, 0, 4, 9, 0, 2, 3, 3, 4, 4, 3, 9, 0, 6, 3, 6,\n",
            "        6, 0, 4, 3, 7, 8, 5, 7, 8, 6, 1, 3, 2, 8, 2, 8])\n"
          ]
        }
      ]
    },
    {
      "cell_type": "code",
      "source": [
        "model=Networl()"
      ],
      "metadata": {
        "id": "Q8DIrqGiM8a6"
      },
      "execution_count": 46,
      "outputs": []
    },
    {
      "cell_type": "code",
      "source": [
        "optimizer= torch.optim.Adam(model.parameters(),lr=0.001)"
      ],
      "metadata": {
        "id": "A_Q4xiv_OoRk"
      },
      "execution_count": 47,
      "outputs": []
    },
    {
      "cell_type": "code",
      "source": [
        "criterion=nn.CrossEntropyLoss()"
      ],
      "metadata": {
        "id": "c1OoNRMdO07y"
      },
      "execution_count": 48,
      "outputs": []
    },
    {
      "cell_type": "code",
      "source": [
        "def train(epoch):\n",
        "  model.train()\n",
        "  for batch_idx,(data,label) in enumerate(train_loader):\n",
        "      optimizer.zero_grad()\n",
        "      output=model(data)\n",
        "      loss=criterion(output,label)\n",
        "      loss.backward()\n",
        "      optimizer.step()\n",
        "      if batch_idx % 100 == 0:\n",
        "        print(f'Train Epoch: {epoch}'\n",
        "        f'{batch_idx}/{len(train_loader)}'\n",
        "        f'Loss: {loss.item():.6f}')\n",
        "  torch.save(model.state_dict(), 'model.pth')"
      ],
      "metadata": {
        "id": "o0x1ZO2HO55L"
      },
      "execution_count": 57,
      "outputs": []
    },
    {
      "cell_type": "code",
      "source": [
        "train(10)"
      ],
      "metadata": {
        "colab": {
          "base_uri": "https://localhost:8080/"
        },
        "id": "eF6T3q7jQTZx",
        "outputId": "b63806fa-230e-41f0-d440-ee303e7414d5"
      },
      "execution_count": 58,
      "outputs": [
        {
          "output_type": "stream",
          "name": "stdout",
          "text": [
            "Train Epoch: 100/938Loss: 0.142876\n",
            "Train Epoch: 10100/938Loss: 0.076827\n",
            "Train Epoch: 10200/938Loss: 0.119318\n",
            "Train Epoch: 10300/938Loss: 0.092391\n",
            "Train Epoch: 10400/938Loss: 0.167190\n",
            "Train Epoch: 10500/938Loss: 0.226701\n",
            "Train Epoch: 10600/938Loss: 0.392473\n",
            "Train Epoch: 10700/938Loss: 0.099284\n",
            "Train Epoch: 10800/938Loss: 0.080751\n",
            "Train Epoch: 10900/938Loss: 0.071037\n"
          ]
        }
      ]
    },
    {
      "cell_type": "code",
      "source": [
        "model.load_state_dict(torch.load('model.pth'))\n",
        "model.eval()"
      ],
      "metadata": {
        "colab": {
          "base_uri": "https://localhost:8080/"
        },
        "id": "QaM7gHrLWKJo",
        "outputId": "5183bd07-ca39-48ae-dd8f-60d5d7707847"
      },
      "execution_count": 64,
      "outputs": [
        {
          "output_type": "execute_result",
          "data": {
            "text/plain": [
              "Networl(\n",
              "  (layer1): Linear(in_features=784, out_features=256, bias=True)\n",
              "  (layer2): Linear(in_features=256, out_features=10, bias=True)\n",
              ")"
            ]
          },
          "metadata": {},
          "execution_count": 64
        }
      ]
    },
    {
      "cell_type": "code",
      "source": [],
      "metadata": {
        "id": "9VOQoQtkUFTi"
      },
      "execution_count": 63,
      "outputs": []
    },
    {
      "cell_type": "code",
      "source": [
        "def test():\n",
        "  right=0\n",
        "  for i,(x,y) in enumerate(test_dataset):\n",
        "    output=model(x)\n",
        "    predict=output.argmax(1).item()\n",
        "    if predict==y:\n",
        "      right+=1\n",
        "    else:\n",
        "      print(f'predict:{predict},label:{y}')\n",
        "  print(right/len(test_dataset))"
      ],
      "metadata": {
        "id": "KBOM-bV6V9nU"
      },
      "execution_count": 69,
      "outputs": []
    },
    {
      "cell_type": "code",
      "source": [
        "test()"
      ],
      "metadata": {
        "colab": {
          "base_uri": "https://localhost:8080/"
        },
        "id": "SMhqoS8mWDzx",
        "outputId": "7a2b4935-d7bc-47f0-c4cf-023db2b77c0b"
      },
      "execution_count": 70,
      "outputs": [
        {
          "output_type": "stream",
          "name": "stdout",
          "text": [
            "predict:6,label:5\n",
            "predict:4,label:9\n",
            "predict:4,label:2\n",
            "predict:1,label:3\n",
            "predict:2,label:4\n",
            "predict:0,label:6\n",
            "predict:7,label:2\n",
            "predict:9,label:7\n",
            "predict:7,label:3\n",
            "predict:0,label:6\n",
            "predict:5,label:3\n",
            "predict:6,label:5\n",
            "predict:0,label:8\n",
            "predict:2,label:8\n",
            "predict:3,label:8\n",
            "predict:9,label:7\n",
            "predict:8,label:2\n",
            "predict:6,label:2\n",
            "predict:8,label:2\n",
            "predict:1,label:7\n",
            "predict:4,label:8\n",
            "predict:8,label:5\n",
            "predict:1,label:3\n",
            "predict:7,label:8\n",
            "predict:4,label:9\n",
            "predict:7,label:9\n",
            "predict:9,label:8\n",
            "predict:9,label:7\n",
            "predict:4,label:5\n",
            "predict:0,label:6\n",
            "predict:3,label:5\n",
            "predict:5,label:6\n",
            "predict:8,label:5\n",
            "predict:1,label:7\n",
            "predict:8,label:6\n",
            "predict:6,label:4\n",
            "predict:7,label:3\n",
            "predict:9,label:7\n",
            "predict:8,label:6\n",
            "predict:4,label:9\n",
            "predict:9,label:7\n",
            "predict:9,label:7\n",
            "predict:2,label:7\n",
            "predict:4,label:9\n",
            "predict:6,label:5\n",
            "predict:3,label:9\n",
            "predict:3,label:8\n",
            "predict:1,label:2\n",
            "predict:1,label:7\n",
            "predict:2,label:7\n",
            "predict:9,label:5\n",
            "predict:7,label:5\n",
            "predict:3,label:8\n",
            "predict:6,label:8\n",
            "predict:1,label:7\n",
            "predict:9,label:7\n",
            "predict:6,label:2\n",
            "predict:6,label:5\n",
            "predict:3,label:5\n",
            "predict:3,label:2\n",
            "predict:7,label:9\n",
            "predict:6,label:8\n",
            "predict:4,label:8\n",
            "predict:4,label:6\n",
            "predict:3,label:5\n",
            "predict:5,label:3\n",
            "predict:9,label:7\n",
            "predict:1,label:7\n",
            "predict:9,label:7\n",
            "predict:0,label:5\n",
            "predict:6,label:1\n",
            "predict:7,label:8\n",
            "predict:6,label:4\n",
            "predict:4,label:6\n",
            "predict:9,label:7\n",
            "predict:6,label:2\n",
            "predict:1,label:3\n",
            "predict:3,label:2\n",
            "predict:6,label:0\n",
            "predict:0,label:2\n",
            "predict:7,label:3\n",
            "predict:3,label:9\n",
            "predict:9,label:7\n",
            "predict:0,label:8\n",
            "predict:2,label:7\n",
            "predict:7,label:2\n",
            "predict:4,label:6\n",
            "predict:4,label:1\n",
            "predict:3,label:8\n",
            "predict:0,label:6\n",
            "predict:4,label:9\n",
            "predict:4,label:2\n",
            "predict:9,label:7\n",
            "predict:5,label:9\n",
            "predict:2,label:7\n",
            "predict:9,label:7\n",
            "predict:4,label:5\n",
            "predict:7,label:2\n",
            "predict:9,label:7\n",
            "predict:0,label:5\n",
            "predict:1,label:8\n",
            "predict:0,label:2\n",
            "predict:7,label:3\n",
            "predict:0,label:6\n",
            "predict:1,label:8\n",
            "predict:9,label:4\n",
            "predict:1,label:6\n",
            "predict:2,label:1\n",
            "predict:3,label:2\n",
            "predict:8,label:5\n",
            "predict:0,label:8\n",
            "predict:0,label:9\n",
            "predict:0,label:8\n",
            "predict:8,label:2\n",
            "predict:9,label:4\n",
            "predict:1,label:9\n",
            "predict:0,label:8\n",
            "predict:4,label:9\n",
            "predict:1,label:2\n",
            "predict:0,label:2\n",
            "predict:4,label:2\n",
            "predict:9,label:4\n",
            "predict:3,label:5\n",
            "predict:1,label:6\n",
            "predict:9,label:7\n",
            "predict:3,label:5\n",
            "predict:5,label:9\n",
            "predict:3,label:5\n",
            "predict:1,label:7\n",
            "predict:8,label:2\n",
            "predict:0,label:9\n",
            "predict:1,label:6\n",
            "predict:4,label:9\n",
            "predict:4,label:9\n",
            "predict:9,label:4\n",
            "predict:3,label:5\n",
            "predict:4,label:9\n",
            "predict:7,label:4\n",
            "predict:0,label:8\n",
            "predict:0,label:3\n",
            "predict:5,label:9\n",
            "predict:5,label:3\n",
            "predict:1,label:9\n",
            "predict:7,label:9\n",
            "predict:5,label:8\n",
            "predict:2,label:1\n",
            "predict:9,label:5\n",
            "predict:0,label:6\n",
            "predict:9,label:7\n",
            "predict:9,label:7\n",
            "predict:3,label:8\n",
            "predict:1,label:7\n",
            "predict:9,label:7\n",
            "predict:6,label:2\n",
            "predict:0,label:6\n",
            "predict:1,label:9\n",
            "predict:4,label:6\n",
            "predict:0,label:5\n",
            "predict:5,label:8\n",
            "predict:9,label:7\n",
            "predict:3,label:9\n",
            "predict:0,label:8\n",
            "predict:0,label:8\n",
            "predict:4,label:5\n",
            "predict:9,label:4\n",
            "predict:1,label:3\n",
            "predict:4,label:6\n",
            "predict:1,label:7\n",
            "predict:5,label:8\n",
            "predict:2,label:7\n",
            "predict:9,label:3\n",
            "predict:8,label:5\n",
            "predict:6,label:4\n",
            "predict:8,label:2\n",
            "predict:8,label:7\n",
            "predict:0,label:2\n",
            "predict:1,label:7\n",
            "predict:5,label:6\n",
            "predict:4,label:9\n",
            "predict:6,label:5\n",
            "predict:3,label:5\n",
            "predict:3,label:1\n",
            "predict:2,label:4\n",
            "predict:3,label:5\n",
            "predict:4,label:9\n",
            "predict:1,label:7\n",
            "predict:4,label:9\n",
            "predict:1,label:5\n",
            "predict:2,label:0\n",
            "predict:0,label:8\n",
            "predict:3,label:9\n",
            "predict:4,label:9\n",
            "predict:1,label:5\n",
            "predict:0,label:9\n",
            "predict:1,label:8\n",
            "predict:6,label:2\n",
            "predict:7,label:1\n",
            "predict:1,label:2\n",
            "predict:5,label:6\n",
            "predict:7,label:9\n",
            "predict:8,label:2\n",
            "predict:3,label:5\n",
            "predict:4,label:9\n",
            "predict:3,label:5\n",
            "predict:4,label:9\n",
            "predict:7,label:2\n",
            "predict:7,label:3\n",
            "predict:2,label:9\n",
            "predict:9,label:5\n",
            "predict:4,label:9\n",
            "predict:6,label:5\n",
            "predict:7,label:3\n",
            "predict:2,label:3\n",
            "predict:7,label:8\n",
            "predict:1,label:9\n",
            "predict:4,label:6\n",
            "predict:4,label:8\n",
            "predict:4,label:2\n",
            "predict:9,label:8\n",
            "predict:4,label:9\n",
            "predict:1,label:3\n",
            "predict:3,label:8\n",
            "predict:4,label:6\n",
            "predict:4,label:9\n",
            "predict:1,label:7\n",
            "predict:4,label:2\n",
            "predict:6,label:8\n",
            "predict:8,label:0\n",
            "predict:1,label:7\n",
            "predict:8,label:2\n",
            "predict:4,label:8\n",
            "predict:1,label:7\n",
            "predict:8,label:3\n",
            "predict:5,label:8\n",
            "predict:0,label:3\n",
            "predict:9,label:7\n",
            "predict:6,label:1\n",
            "predict:0,label:8\n",
            "predict:9,label:7\n",
            "predict:5,label:1\n",
            "predict:7,label:3\n",
            "predict:6,label:5\n",
            "predict:6,label:8\n",
            "predict:9,label:7\n",
            "predict:7,label:4\n",
            "predict:0,label:7\n",
            "predict:3,label:5\n",
            "predict:3,label:5\n",
            "predict:3,label:5\n",
            "predict:3,label:5\n",
            "predict:8,label:3\n",
            "predict:3,label:5\n",
            "predict:8,label:3\n",
            "predict:3,label:5\n",
            "predict:0,label:2\n",
            "predict:9,label:3\n",
            "predict:8,label:3\n",
            "predict:9,label:3\n",
            "predict:3,label:9\n",
            "predict:0,label:9\n",
            "predict:6,label:8\n",
            "predict:0,label:9\n",
            "predict:9,label:8\n",
            "predict:4,label:9\n",
            "predict:7,label:9\n",
            "predict:5,label:3\n",
            "predict:1,label:7\n",
            "predict:8,label:7\n",
            "predict:7,label:0\n",
            "predict:3,label:5\n",
            "predict:5,label:9\n",
            "predict:4,label:8\n",
            "predict:5,label:9\n",
            "predict:5,label:0\n",
            "predict:9,label:8\n",
            "predict:5,label:8\n",
            "predict:6,label:1\n",
            "predict:4,label:9\n",
            "predict:4,label:6\n",
            "predict:9,label:8\n",
            "predict:4,label:9\n",
            "predict:1,label:7\n",
            "predict:8,label:4\n",
            "predict:5,label:9\n",
            "predict:5,label:8\n",
            "predict:3,label:5\n",
            "predict:9,label:8\n",
            "predict:9,label:8\n",
            "predict:6,label:5\n",
            "predict:0,label:3\n",
            "predict:4,label:2\n",
            "predict:8,label:1\n",
            "predict:0,label:8\n",
            "predict:9,label:7\n",
            "predict:6,label:2\n",
            "predict:8,label:1\n",
            "predict:8,label:2\n",
            "predict:5,label:8\n",
            "predict:4,label:8\n",
            "predict:4,label:6\n",
            "predict:0,label:2\n",
            "predict:2,label:8\n",
            "predict:5,label:8\n",
            "predict:6,label:8\n",
            "predict:5,label:8\n",
            "predict:6,label:8\n",
            "predict:6,label:5\n",
            "predict:9,label:3\n",
            "predict:2,label:7\n",
            "predict:2,label:7\n",
            "predict:2,label:7\n",
            "predict:2,label:7\n",
            "predict:5,label:8\n",
            "predict:6,label:8\n",
            "predict:9,label:4\n",
            "predict:9,label:7\n",
            "predict:4,label:9\n",
            "predict:8,label:0\n",
            "predict:7,label:9\n",
            "predict:2,label:3\n",
            "predict:7,label:2\n",
            "predict:5,label:6\n",
            "predict:5,label:6\n",
            "predict:0,label:5\n",
            "predict:6,label:5\n",
            "predict:1,label:8\n",
            "predict:0,label:4\n",
            "predict:6,label:5\n",
            "predict:5,label:8\n",
            "predict:0,label:2\n",
            "predict:0,label:5\n",
            "predict:0,label:5\n",
            "predict:0,label:2\n",
            "predict:4,label:9\n",
            "predict:8,label:2\n",
            "predict:3,label:2\n",
            "predict:5,label:9\n",
            "predict:8,label:2\n",
            "predict:1,label:5\n",
            "predict:0,label:6\n",
            "predict:6,label:8\n",
            "predict:0,label:2\n",
            "predict:9,label:3\n",
            "predict:6,label:5\n",
            "predict:8,label:3\n",
            "predict:2,label:3\n",
            "predict:6,label:5\n",
            "0.9653\n"
          ]
        }
      ]
    },
    {
      "cell_type": "code",
      "source": [
        "#accuracy is 0.9653,a simple code file"
      ],
      "metadata": {
        "id": "zbQGe3zhXE_T"
      },
      "execution_count": null,
      "outputs": []
    }
  ]
}